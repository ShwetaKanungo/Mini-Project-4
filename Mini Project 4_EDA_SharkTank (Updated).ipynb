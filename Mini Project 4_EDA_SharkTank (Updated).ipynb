{
 "cells": [
  {
   "cell_type": "markdown",
   "id": "223ba7d9",
   "metadata": {},
   "source": [
    "                                             Mini Project -4_EDA-Shark Tank India"
   ]
  },
  {
   "cell_type": "code",
   "execution_count": 1,
   "id": "61c06941",
   "metadata": {},
   "outputs": [],
   "source": [
    "import pandas as pd\n",
    "import numpy as np\n",
    "import matplotlib.pyplot as plt\n",
    "import seaborn as sns\n",
    "import warnings\n",
    "warnings.filterwarnings('ignore')\n",
    "%matplotlib inline"
   ]
  },
  {
   "cell_type": "code",
   "execution_count": 2,
   "id": "0d858249",
   "metadata": {
    "scrolled": true
   },
   "outputs": [
    {
     "data": {
      "text/html": [
       "<div>\n",
       "<style scoped>\n",
       "    .dataframe tbody tr th:only-of-type {\n",
       "        vertical-align: middle;\n",
       "    }\n",
       "\n",
       "    .dataframe tbody tr th {\n",
       "        vertical-align: top;\n",
       "    }\n",
       "\n",
       "    .dataframe thead th {\n",
       "        text-align: right;\n",
       "    }\n",
       "</style>\n",
       "<table border=\"1\" class=\"dataframe\">\n",
       "  <thead>\n",
       "    <tr style=\"text-align: right;\">\n",
       "      <th></th>\n",
       "      <th>episode_number</th>\n",
       "      <th>pitch_number</th>\n",
       "      <th>brand_name</th>\n",
       "      <th>idea</th>\n",
       "      <th>deal</th>\n",
       "      <th>pitcher_ask_amount</th>\n",
       "      <th>ask_equity</th>\n",
       "      <th>ask_valuation</th>\n",
       "      <th>deal_amount</th>\n",
       "      <th>deal_equity</th>\n",
       "      <th>...</th>\n",
       "      <th>ashneer_deal</th>\n",
       "      <th>anupam_deal</th>\n",
       "      <th>aman_deal</th>\n",
       "      <th>namita_deal</th>\n",
       "      <th>vineeta_deal</th>\n",
       "      <th>peyush_deal</th>\n",
       "      <th>ghazal_deal</th>\n",
       "      <th>total_sharks_invested</th>\n",
       "      <th>amount_per_shark</th>\n",
       "      <th>equity_per_shark</th>\n",
       "    </tr>\n",
       "  </thead>\n",
       "  <tbody>\n",
       "    <tr>\n",
       "      <th>0</th>\n",
       "      <td>1</td>\n",
       "      <td>1</td>\n",
       "      <td>BluePine Industries</td>\n",
       "      <td>Frozen Momos</td>\n",
       "      <td>1</td>\n",
       "      <td>50.0</td>\n",
       "      <td>5.0</td>\n",
       "      <td>1000.00</td>\n",
       "      <td>75.0</td>\n",
       "      <td>16.00</td>\n",
       "      <td>...</td>\n",
       "      <td>1</td>\n",
       "      <td>0</td>\n",
       "      <td>1</td>\n",
       "      <td>0</td>\n",
       "      <td>1</td>\n",
       "      <td>0</td>\n",
       "      <td>0</td>\n",
       "      <td>3</td>\n",
       "      <td>25.0</td>\n",
       "      <td>5.333333</td>\n",
       "    </tr>\n",
       "    <tr>\n",
       "      <th>1</th>\n",
       "      <td>1</td>\n",
       "      <td>2</td>\n",
       "      <td>Booz scooters</td>\n",
       "      <td>Renting e-bike for mobility in private spaces</td>\n",
       "      <td>1</td>\n",
       "      <td>40.0</td>\n",
       "      <td>15.0</td>\n",
       "      <td>266.67</td>\n",
       "      <td>40.0</td>\n",
       "      <td>50.00</td>\n",
       "      <td>...</td>\n",
       "      <td>1</td>\n",
       "      <td>0</td>\n",
       "      <td>0</td>\n",
       "      <td>0</td>\n",
       "      <td>1</td>\n",
       "      <td>0</td>\n",
       "      <td>0</td>\n",
       "      <td>2</td>\n",
       "      <td>20.0</td>\n",
       "      <td>25.000000</td>\n",
       "    </tr>\n",
       "    <tr>\n",
       "      <th>2</th>\n",
       "      <td>1</td>\n",
       "      <td>3</td>\n",
       "      <td>Heart up my Sleeves</td>\n",
       "      <td>Detachable Sleeves</td>\n",
       "      <td>1</td>\n",
       "      <td>25.0</td>\n",
       "      <td>10.0</td>\n",
       "      <td>250.00</td>\n",
       "      <td>25.0</td>\n",
       "      <td>30.00</td>\n",
       "      <td>...</td>\n",
       "      <td>0</td>\n",
       "      <td>1</td>\n",
       "      <td>0</td>\n",
       "      <td>0</td>\n",
       "      <td>1</td>\n",
       "      <td>0</td>\n",
       "      <td>0</td>\n",
       "      <td>2</td>\n",
       "      <td>12.5</td>\n",
       "      <td>15.000000</td>\n",
       "    </tr>\n",
       "    <tr>\n",
       "      <th>3</th>\n",
       "      <td>2</td>\n",
       "      <td>4</td>\n",
       "      <td>Tagz Foods</td>\n",
       "      <td>Healthy Potato Chips</td>\n",
       "      <td>1</td>\n",
       "      <td>70.0</td>\n",
       "      <td>1.0</td>\n",
       "      <td>7000.00</td>\n",
       "      <td>70.0</td>\n",
       "      <td>2.75</td>\n",
       "      <td>...</td>\n",
       "      <td>1</td>\n",
       "      <td>0</td>\n",
       "      <td>0</td>\n",
       "      <td>0</td>\n",
       "      <td>0</td>\n",
       "      <td>0</td>\n",
       "      <td>0</td>\n",
       "      <td>1</td>\n",
       "      <td>70.0</td>\n",
       "      <td>2.750000</td>\n",
       "    </tr>\n",
       "    <tr>\n",
       "      <th>4</th>\n",
       "      <td>2</td>\n",
       "      <td>5</td>\n",
       "      <td>Head and Heart</td>\n",
       "      <td>Brain Development Course</td>\n",
       "      <td>0</td>\n",
       "      <td>50.0</td>\n",
       "      <td>5.0</td>\n",
       "      <td>1000.00</td>\n",
       "      <td>0.0</td>\n",
       "      <td>0.00</td>\n",
       "      <td>...</td>\n",
       "      <td>0</td>\n",
       "      <td>0</td>\n",
       "      <td>0</td>\n",
       "      <td>0</td>\n",
       "      <td>0</td>\n",
       "      <td>0</td>\n",
       "      <td>0</td>\n",
       "      <td>0</td>\n",
       "      <td>0.0</td>\n",
       "      <td>0.000000</td>\n",
       "    </tr>\n",
       "  </tbody>\n",
       "</table>\n",
       "<p>5 rows × 28 columns</p>\n",
       "</div>"
      ],
      "text/plain": [
       "   episode_number  pitch_number           brand_name  \\\n",
       "0               1             1  BluePine Industries   \n",
       "1               1             2        Booz scooters   \n",
       "2               1             3  Heart up my Sleeves   \n",
       "3               2             4           Tagz Foods   \n",
       "4               2             5       Head and Heart   \n",
       "\n",
       "                                            idea  deal  pitcher_ask_amount  \\\n",
       "0                                   Frozen Momos     1                50.0   \n",
       "1  Renting e-bike for mobility in private spaces     1                40.0   \n",
       "2                             Detachable Sleeves     1                25.0   \n",
       "3                           Healthy Potato Chips     1                70.0   \n",
       "4                       Brain Development Course     0                50.0   \n",
       "\n",
       "   ask_equity  ask_valuation  deal_amount  deal_equity  ...  ashneer_deal  \\\n",
       "0         5.0        1000.00         75.0        16.00  ...             1   \n",
       "1        15.0         266.67         40.0        50.00  ...             1   \n",
       "2        10.0         250.00         25.0        30.00  ...             0   \n",
       "3         1.0        7000.00         70.0         2.75  ...             1   \n",
       "4         5.0        1000.00          0.0         0.00  ...             0   \n",
       "\n",
       "   anupam_deal  aman_deal  namita_deal  vineeta_deal  peyush_deal  \\\n",
       "0            0          1            0             1            0   \n",
       "1            0          0            0             1            0   \n",
       "2            1          0            0             1            0   \n",
       "3            0          0            0             0            0   \n",
       "4            0          0            0             0            0   \n",
       "\n",
       "   ghazal_deal  total_sharks_invested  amount_per_shark  equity_per_shark  \n",
       "0            0                      3              25.0          5.333333  \n",
       "1            0                      2              20.0         25.000000  \n",
       "2            0                      2              12.5         15.000000  \n",
       "3            0                      1              70.0          2.750000  \n",
       "4            0                      0               0.0          0.000000  \n",
       "\n",
       "[5 rows x 28 columns]"
      ]
     },
     "execution_count": 2,
     "metadata": {},
     "output_type": "execute_result"
    }
   ],
   "source": [
    "Shark_Tank_Dataset = pd.read_csv('EDA_Shark_Tank_India.csv')\n",
    "Shark_Tank_Dataset.head()"
   ]
  },
  {
   "cell_type": "code",
   "execution_count": 3,
   "id": "558b306e",
   "metadata": {},
   "outputs": [
    {
     "data": {
      "text/plain": [
       "Index(['episode_number', 'pitch_number', 'brand_name', 'idea', 'deal',\n",
       "       'pitcher_ask_amount', 'ask_equity', 'ask_valuation', 'deal_amount',\n",
       "       'deal_equity', 'deal_valuation', 'ashneer_present', 'anupam_present',\n",
       "       'aman_present', 'namita_present', 'vineeta_present', 'peyush_present',\n",
       "       'ghazal_present', 'ashneer_deal', 'anupam_deal', 'aman_deal',\n",
       "       'namita_deal', 'vineeta_deal', 'peyush_deal', 'ghazal_deal',\n",
       "       'total_sharks_invested', 'amount_per_shark', 'equity_per_shark'],\n",
       "      dtype='object')"
      ]
     },
     "execution_count": 3,
     "metadata": {},
     "output_type": "execute_result"
    }
   ],
   "source": [
    "Shark_Tank_Dataset.columns"
   ]
  },
  {
   "cell_type": "code",
   "execution_count": 4,
   "id": "88af46e3",
   "metadata": {},
   "outputs": [],
   "source": [
    "#Q1. Find the number of episodes?"
   ]
  },
  {
   "cell_type": "code",
   "execution_count": 5,
   "id": "1ad94820",
   "metadata": {},
   "outputs": [
    {
     "name": "stdout",
     "output_type": "stream",
     "text": [
      "Number of episodes: 35\n"
     ]
    }
   ],
   "source": [
    "number_episodes = Shark_Tank_Dataset['episode_number'].nunique()\n",
    "print(f\"Number of episodes: {number_episodes}\")\n"
   ]
  },
  {
   "cell_type": "code",
   "execution_count": 6,
   "id": "ecad9d1f",
   "metadata": {},
   "outputs": [],
   "source": [
    " #Q2. Max, min, mean of asked amount, asked equity, asked valuation?\n"
   ]
  },
  {
   "cell_type": "code",
   "execution_count": 7,
   "id": "43e764f8",
   "metadata": {},
   "outputs": [
    {
     "name": "stdout",
     "output_type": "stream",
     "text": [
      "Max Asked Amount: 30000.0\n",
      "Min Asked Amount: 0.00101\n",
      "Mean Asked Amount: 319.8547094871795\n"
     ]
    }
   ],
   "source": [
    "max_asked_amount = Shark_Tank_Dataset['pitcher_ask_amount'].max()\n",
    "min_asked_amount = Shark_Tank_Dataset['pitcher_ask_amount'].min()\n",
    "mean_asked_amount = Shark_Tank_Dataset['pitcher_ask_amount'].mean()\n",
    "\n",
    "print(f\"Max Asked Amount: {max_asked_amount}\")\n",
    "print(f\"Min Asked Amount: {min_asked_amount}\")\n",
    "print(f\"Mean Asked Amount: {mean_asked_amount}\")"
   ]
  },
  {
   "cell_type": "code",
   "execution_count": 8,
   "id": "e6774234",
   "metadata": {},
   "outputs": [
    {
     "name": "stdout",
     "output_type": "stream",
     "text": [
      "Max Asked Equity: 25.0\n",
      "Min Asked Equity: 0.25\n",
      "Mean Asked Equity: 5.188034188034188\n"
     ]
    }
   ],
   "source": [
    "max_asked_equity = Shark_Tank_Dataset['ask_equity'].max()\n",
    "min_asked_equity = Shark_Tank_Dataset['ask_equity'].min()\n",
    "mean_asked_equity = Shark_Tank_Dataset['ask_equity'].mean()\n",
    "\n",
    "print(f\"Max Asked Equity: {max_asked_equity}\")\n",
    "print(f\"Min Asked Equity: {min_asked_equity}\")\n",
    "print(f\"Mean Asked Equity: {mean_asked_equity}\")\n"
   ]
  },
  {
   "cell_type": "code",
   "execution_count": 9,
   "id": "cf79e5f2",
   "metadata": {},
   "outputs": [],
   "source": [
    "#Q3. Max & Min asked-equity, asked-valuation, and asked-amount episode-wise?"
   ]
  },
  {
   "cell_type": "code",
   "execution_count": 10,
   "id": "9a285078",
   "metadata": {},
   "outputs": [
    {
     "name": "stdout",
     "output_type": "stream",
     "text": [
      "               ask_equity       ask_valuation          pitcher_ask_amount  \\\n",
      "                      max   min           max      min                max   \n",
      "episode_number                                                              \n",
      "1                    15.0  5.00       1000.00   250.00               50.0   \n",
      "2                     5.0  1.00       7000.00  1000.00               70.0   \n",
      "3                     4.0  0.25      40000.00  1875.00              100.0   \n",
      "4                    10.0  4.00       1875.00   500.00               75.0   \n",
      "5                    20.0  1.00      10000.00    50.00              100.0   \n",
      "6                    10.0  1.00      10000.00   500.00              100.0   \n",
      "7                     7.5  1.00       7500.00   666.67              100.0   \n",
      "8                     7.5  2.50       2000.00   746.67               56.0   \n",
      "9                     5.0  2.50       2000.00  1000.00              100.0   \n",
      "10                    5.0  2.00       1500.00   500.00               30.0   \n",
      "11                   25.0  5.00     120000.00   300.00            30000.0   \n",
      "12                    5.0  3.00       1875.00   800.00               75.0   \n",
      "13                   10.0  2.00       2500.00   500.00               50.0   \n",
      "14                    5.0  3.00       3333.33   900.00              100.0   \n",
      "15                    5.0  3.00       1250.00   100.00               50.0   \n",
      "16                    7.0  2.00       2250.00  1071.43               80.0   \n",
      "17                   10.0  3.00       5000.00   500.00              150.0   \n",
      "18                    4.0  1.00      10000.00  1250.00              100.0   \n",
      "19                    8.0  1.25      10000.00   300.00              125.0   \n",
      "20                    5.0  2.00       3250.00   700.00               65.0   \n",
      "21                   10.0  5.00       1250.00   470.00              100.0   \n",
      "22                    5.0  2.00       3000.00  1500.00               80.0   \n",
      "23                    5.0  1.00      10000.00   600.00              100.0   \n",
      "24                   10.0  8.00        500.00   200.00               40.0   \n",
      "25                    4.0  2.00       7500.00  1250.00              150.0   \n",
      "26                   10.0  1.00       6500.00   500.00               65.0   \n",
      "27                   10.0  1.00      10000.00     0.01              100.0   \n",
      "28                    5.0  4.00       1875.00  1000.00               90.0   \n",
      "29                    5.0  3.00       2857.14  1500.00              100.0   \n",
      "30                   15.0  1.00      30000.00   500.00              300.0   \n",
      "31                   10.0  2.00       3750.00   500.00               75.0   \n",
      "32                    7.0  1.00       5000.00   583.33              200.0   \n",
      "33                   10.0  1.00       3500.00   400.00               40.0   \n",
      "34                   10.0  1.00      10000.00   400.00              100.0   \n",
      "35                    8.0  2.50       4000.00   500.00              100.0   \n",
      "\n",
      "                          \n",
      "                     min  \n",
      "episode_number            \n",
      "1               25.00000  \n",
      "2               50.00000  \n",
      "3               50.00000  \n",
      "4               50.00000  \n",
      "5               10.00000  \n",
      "6               45.00000  \n",
      "7               50.00000  \n",
      "8               30.00000  \n",
      "9               50.00000  \n",
      "10              25.00000  \n",
      "11              30.00000  \n",
      "12              40.00000  \n",
      "13              30.00000  \n",
      "14              45.00000  \n",
      "15               5.00000  \n",
      "16              45.00000  \n",
      "17              50.00000  \n",
      "18              50.00000  \n",
      "19              15.00000  \n",
      "20              35.00000  \n",
      "21              35.00000  \n",
      "22              50.00000  \n",
      "23              30.00000  \n",
      "24              20.00000  \n",
      "25              50.00000  \n",
      "26              50.00000  \n",
      "27               0.00101  \n",
      "28              50.00000  \n",
      "29              75.00000  \n",
      "30              50.00000  \n",
      "31              50.00000  \n",
      "32              35.00000  \n",
      "33              35.00000  \n",
      "34              30.00000  \n",
      "35              40.00000  \n"
     ]
    }
   ],
   "source": [
    "max_min_episodewise = Shark_Tank_Dataset.groupby('episode_number').agg({\n",
    "    'ask_equity': ['max', 'min'],\n",
    "    'ask_valuation': ['max', 'min'],\n",
    "    'pitcher_ask_amount': ['max', 'min']\n",
    "})\n",
    "print(max_min_episodewise)"
   ]
  },
  {
   "cell_type": "code",
   "execution_count": 11,
   "id": "4a64ef75",
   "metadata": {},
   "outputs": [],
   "source": [
    "#Q4. Brand names in which 2, 3, or 4 sharks are invested?"
   ]
  },
  {
   "cell_type": "code",
   "execution_count": 12,
   "id": "72e11f22",
   "metadata": {},
   "outputs": [
    {
     "name": "stdout",
     "output_type": "stream",
     "text": [
      "Brand names with 2, 3, or 4 sharks invested: []\n"
     ]
    }
   ],
   "source": [
    "sharks_invested = Shark_Tank_Dataset.groupby('brand_name')['total_sharks_invested'].count()\n",
    "brands_with_sharks = sharks_invested[sharks_invested.isin([2, 3, 4])].index.tolist()\n",
    "print(\"Brand names with 2, 3, or 4 sharks invested:\", brands_with_sharks)\n"
   ]
  },
  {
   "cell_type": "code",
   "execution_count": 13,
   "id": "fa3a5f24",
   "metadata": {},
   "outputs": [],
   "source": [
    "#Q.5 Episode-wise minimum and maximum of sharks invested?"
   ]
  },
  {
   "cell_type": "code",
   "execution_count": 14,
   "id": "b8a7f176",
   "metadata": {},
   "outputs": [
    {
     "name": "stdout",
     "output_type": "stream",
     "text": [
      "Episode-wise minimum and maximum of sharks invested:\n",
      "min    1\n",
      "max    4\n",
      "Name: total_sharks_invested, dtype: int64\n"
     ]
    }
   ],
   "source": [
    "episode_sharks_invested = Shark_Tank_Dataset.groupby('episode_number')['total_sharks_invested'].nunique()\n",
    "min_max_sharks_invested = episode_sharks_invested.agg(['min', 'max'])\n",
    "print(\"Episode-wise minimum and maximum of sharks invested:\")\n",
    "print(min_max_sharks_invested)\n"
   ]
  },
  {
   "cell_type": "code",
   "execution_count": 15,
   "id": "aa040619",
   "metadata": {},
   "outputs": [],
   "source": [
    "#Q6. Minimum and Maximum sharks invested in each episode?"
   ]
  },
  {
   "cell_type": "code",
   "execution_count": 16,
   "id": "40f90eb8",
   "metadata": {},
   "outputs": [
    {
     "name": "stdout",
     "output_type": "stream",
     "text": [
      "Minimum and Maximum sharks invested in each episode:\n",
      "min    1\n",
      "max    4\n",
      "Name: total_sharks_invested, dtype: int64\n"
     ]
    }
   ],
   "source": [
    "min_max_sharks_invested_per_episode = Shark_Tank_Dataset.groupby('episode_number')['total_sharks_invested'].nunique().agg(['min', 'max'])\n",
    "print(\"Minimum and Maximum sharks invested in each episode:\")\n",
    "print(min_max_sharks_invested_per_episode)\n"
   ]
  },
  {
   "cell_type": "code",
   "execution_count": 17,
   "id": "cd15ada2",
   "metadata": {},
   "outputs": [],
   "source": [
    "#Q7. Brand names who ask for 1 crore and got a deal?"
   ]
  },
  {
   "cell_type": "code",
   "execution_count": 18,
   "id": "2077cb35",
   "metadata": {},
   "outputs": [
    {
     "name": "stdout",
     "output_type": "stream",
     "text": [
      "Brand names who ask for 1 crore and got a deal: ['Revamp Moto', 'Raising Superstars', 'The Renal Project', 'Get a Whey', 'Sunfox Technologies', 'Insurance Samadhan']\n"
     ]
    }
   ],
   "source": [
    "brands_1crore_with_deal = Shark_Tank_Dataset.loc[(Shark_Tank_Dataset['pitcher_ask_amount'] == 100) & (Shark_Tank_Dataset['deal_amount'] == 100), 'brand_name'].tolist()\n",
    "print(\"Brand names who ask for 1 crore and got a deal:\", brands_1crore_with_deal)\n"
   ]
  },
  {
   "cell_type": "code",
   "execution_count": 19,
   "id": "e3e4adb6",
   "metadata": {},
   "outputs": [],
   "source": [
    "#Q8. Brand names where deal equity is between 0 to 50?"
   ]
  },
  {
   "cell_type": "code",
   "execution_count": 20,
   "id": "adb14b7a",
   "metadata": {},
   "outputs": [
    {
     "name": "stdout",
     "output_type": "stream",
     "text": [
      "Brand names where deal equity is between 0 to 50: ['BluePine Industries', 'Booz scooters', 'Heart up my Sleeves', 'Tagz Foods', 'Head and Heart', 'Agro tourism', 'Qzense Labs', 'Peeschute', 'NOCD', 'Cosiq', 'JhaJi Achaar', 'Bummer', 'Revamp Moto', 'Hungry Heads', 'Shrawani Engineers', 'Skippi Pops', 'Menstrupedia', 'Hecolll', 'Raising Superstars', 'Torch-it', 'La Kheer Deli', 'Beyond Snack', 'Vivalyf Innovations- Easy Life', 'Motion Breeze', 'Altor', 'Ariro', 'Kabira Handmade', 'Nuutjob', 'Meatyour', 'EventBeep', \"Gopal's 56\", 'ARRCOAT Surface Textures', 'Farda', 'Auli Lifestyle', 'SweeDesi', 'LOKA', 'Annie', 'Caragreen', 'The Yarn Bazaar', 'The Renal Project', 'Morikko Pure Foods', 'Good Good Piggy Bank', 'Hammer Lifestyle', 'PNT', 'Cocofit', 'Bamboo India', 'Flying Furr', 'Beyond Water', \"Let's Try\", 'Find Your Kicks India', 'Aas Vidyalaya', 'Outbox', 'RoadBounce', \"Mommy's Kitchen\", 'India Hemp and Co', 'Otua', 'Anthyesti', 'Ethik', 'WeSTOCK', 'KetoIndia', 'Magic lock', 'The State Plate', 'Bakarmax', 'IN A CAN', 'Get a Whey', 'The Quirky Nari', 'Hair Originals', 'Poo de Cologne', 'Moonshine Meads', 'Falhari', 'Namhya Foods', 'Urban Monkey', 'Guardian Gears', 'Modern Myth', 'The Sass Bar', 'KG Agrotech', 'Nuskha Kitchen', 'PawsIndia', 'Sunfox Technologies', 'Alpino', 'Isak Fragrances', 'Julaa Automation', 'Rare Planet', 'Theka Coffee', 'Watt Technovations', 'Aliste Technologies', 'Insurance Samadhan', 'Humpy A2', 'Kunafa World', 'Gold Safe Solutions Ind.', 'Wakao Foods', 'PDD Falcon', 'PlayBox TV', 'Sippline Drinking Shields', 'Kabaddi Adda', 'Shades of Spring', 'Scholify', 'Scrapshala', 'Sabjikothi', 'AyuRythm', 'Astrix', 'Thea and Sid', 'Experential Etc', 'GrowFitter', 'Med Tech', 'Colour Me Mad', \"Mavi's\", 'Tweek Labs', 'Proxgy', 'Nomad Food Project', 'Twee in One', 'Green Protein', 'On2Cook', 'Jain Shikanji', 'Woloo', 'Elcare India']\n"
     ]
    }
   ],
   "source": [
    "brands_deal_equity_0_to_50 = Shark_Tank_Dataset.loc[(Shark_Tank_Dataset['deal_equity'] >= 0) & (Shark_Tank_Dataset['deal_equity'] <= 50), 'brand_name'].tolist()\n",
    "print(\"Brand names where deal equity is between 0 to 50:\", brands_deal_equity_0_to_50)\n"
   ]
  },
  {
   "cell_type": "code",
   "execution_count": 21,
   "id": "704822f5",
   "metadata": {},
   "outputs": [],
   "source": [
    "#Q9. Find the number of brands participated in each episode?\n"
   ]
  },
  {
   "cell_type": "code",
   "execution_count": 22,
   "id": "96a36930",
   "metadata": {},
   "outputs": [
    {
     "name": "stdout",
     "output_type": "stream",
     "text": [
      "Number of brands participated in each episode:\n",
      "episode_number\n",
      "1     3\n",
      "2     3\n",
      "3     3\n",
      "4     3\n",
      "5     3\n",
      "6     3\n",
      "7     3\n",
      "8     3\n",
      "9     3\n",
      "10    3\n",
      "11    3\n",
      "12    3\n",
      "13    3\n",
      "14    3\n",
      "15    3\n",
      "16    4\n",
      "17    4\n",
      "18    4\n",
      "19    4\n",
      "20    3\n",
      "21    3\n",
      "22    4\n",
      "23    4\n",
      "24    3\n",
      "25    3\n",
      "26    3\n",
      "27    4\n",
      "28    3\n",
      "29    3\n",
      "30    4\n",
      "31    4\n",
      "32    4\n",
      "33    4\n",
      "34    4\n",
      "35    3\n",
      "Name: brand_name, dtype: int64\n"
     ]
    }
   ],
   "source": [
    "brands_participated_per_episode = Shark_Tank_Dataset.groupby('episode_number')['brand_name'].nunique()\n",
    "print(\"Number of brands participated in each episode:\")\n",
    "print(brands_participated_per_episode)\n"
   ]
  },
  {
   "cell_type": "code",
   "execution_count": 23,
   "id": "c301c5c4",
   "metadata": {},
   "outputs": [],
   "source": [
    "#Q10. How many sharks participated in this show and What were their names? "
   ]
  },
  {
   "cell_type": "code",
   "execution_count": 24,
   "id": "fd6b74dc",
   "metadata": {},
   "outputs": [
    {
     "name": "stdout",
     "output_type": "stream",
     "text": [
      "Total number of sharks participated: 144\n",
      "Names of sharks: ['ashneer_present', 'anupam_present', 'aman_present', 'namita_present', 'vineeta_present', 'peyush_present', 'ghazal_present']\n"
     ]
    }
   ],
   "source": [
    "total_sharks_participated = Shark_Tank_Dataset['total_sharks_invested'].sum()\n",
    "sharks_names = Shark_Tank_Dataset[['ashneer_present', 'anupam_present', 'aman_present', 'namita_present', 'vineeta_present', 'peyush_present', 'ghazal_present']].columns.tolist()\n",
    "\n",
    "print(\"Total number of sharks participated:\", total_sharks_participated)\n",
    "print(\"Names of sharks:\", sharks_names)\n"
   ]
  },
  {
   "cell_type": "code",
   "execution_count": 25,
   "id": "0ad08f19",
   "metadata": {},
   "outputs": [],
   "source": [
    "#Q11. Find appearance of each sharks? "
   ]
  },
  {
   "cell_type": "code",
   "execution_count": 26,
   "id": "13656eb9",
   "metadata": {},
   "outputs": [
    {
     "name": "stdout",
     "output_type": "stream",
     "text": [
      "Appearance of each shark:\n",
      "ashneer_present: 98\n",
      "anupam_present: 117\n",
      "aman_present: 98\n",
      "namita_present: 106\n",
      "vineeta_present: 66\n",
      "peyush_present: 88\n",
      "ghazal_present: 26\n"
     ]
    }
   ],
   "source": [
    "shark_appearances = {}\n",
    "for shark_name in sharks_names:\n",
    "    appearances = Shark_Tank_Dataset[shark_name].sum()\n",
    "    shark_appearances[shark_name] = appearances\n",
    "\n",
    "print(\"Appearance of each shark:\")\n",
    "for shark_name, appearances in shark_appearances.items():\n",
    "    print(f\"{shark_name}: {appearances}\")\n"
   ]
  },
  {
   "cell_type": "code",
   "execution_count": 27,
   "id": "05afdeac",
   "metadata": {},
   "outputs": [],
   "source": [
    "#Q12. How many entrepreneurs were present? "
   ]
  },
  {
   "cell_type": "code",
   "execution_count": 28,
   "id": "5d3c2eb8",
   "metadata": {},
   "outputs": [
    {
     "name": "stdout",
     "output_type": "stream",
     "text": [
      "Total number of entrepreneurs present: 599\n"
     ]
    }
   ],
   "source": [
    "entrepreneur_columns = ['ashneer_present', 'anupam_present', 'aman_present', 'namita_present', 'vineeta_present', 'peyush_present', 'ghazal_present']\n",
    "\n",
    "total_entrepreneurs = Shark_Tank_Dataset[entrepreneur_columns].sum().sum()\n",
    "\n",
    "print(\"Total number of entrepreneurs present:\", total_entrepreneurs)\n"
   ]
  },
  {
   "cell_type": "code",
   "execution_count": 29,
   "id": "a7a6e12e",
   "metadata": {},
   "outputs": [],
   "source": [
    "#Q13. How many times each shark invested the deal? "
   ]
  },
  {
   "cell_type": "code",
   "execution_count": 30,
   "id": "fe9fd1e3",
   "metadata": {},
   "outputs": [
    {
     "name": "stdout",
     "output_type": "stream",
     "text": [
      "Number of times each shark invested in a deal:\n",
      "ashneer_deal    117\n",
      "anupam_deal     117\n",
      "aman_deal       117\n",
      "namita_deal     117\n",
      "vineeta_deal    117\n",
      "peyush_deal     117\n",
      "ghazal_deal     117\n",
      "dtype: int64\n"
     ]
    }
   ],
   "source": [
    "shark_deal_columns = ['ashneer_deal', 'anupam_deal', 'aman_deal', 'namita_deal', 'vineeta_deal', 'peyush_deal', 'ghazal_deal']\n",
    "shark_deal_counts = Shark_Tank_Dataset[shark_deal_columns].notnull().sum()\n",
    "\n",
    "print(\"Number of times each shark invested in a deal:\")\n",
    "print(shark_deal_counts)\n"
   ]
  },
  {
   "cell_type": "code",
   "execution_count": 31,
   "id": "27c8a46b",
   "metadata": {},
   "outputs": [],
   "source": [
    "#Q14. Find the equity percent that each sharks gets? "
   ]
  },
  {
   "cell_type": "code",
   "execution_count": 32,
   "id": "8481b6c5",
   "metadata": {},
   "outputs": [
    {
     "name": "stdout",
     "output_type": "stream",
     "text": [
      "Mean equity percentage that each shark gets:\n",
      "ashneer_deal    0.179487\n",
      "anupam_deal     0.205128\n",
      "aman_deal       0.239316\n",
      "namita_deal     0.188034\n",
      "vineeta_deal    0.128205\n",
      "peyush_deal     0.230769\n",
      "ghazal_deal     0.059829\n",
      "dtype: float64\n"
     ]
    }
   ],
   "source": [
    "shark_equity_columns = ['ashneer_deal', 'anupam_deal', 'aman_deal', 'namita_deal', 'vineeta_deal', 'peyush_deal', 'ghazal_deal']\n",
    "mean_shark_equity = Shark_Tank_Dataset[shark_equity_columns].mean()\n",
    "\n",
    "print(\"Mean equity percentage that each shark gets:\")\n",
    "print(mean_shark_equity)\n"
   ]
  },
  {
   "cell_type": "code",
   "execution_count": 33,
   "id": "cbda7770",
   "metadata": {},
   "outputs": [],
   "source": [
    "#Q15. Find the total number of amount invested in this show? "
   ]
  },
  {
   "cell_type": "code",
   "execution_count": 34,
   "id": "cb812dfa",
   "metadata": {},
   "outputs": [
    {
     "name": "stdout",
     "output_type": "stream",
     "text": [
      "Total amount invested in the show: 3742.00106\n"
     ]
    }
   ],
   "source": [
    "total_amount_invested = Shark_Tank_Dataset['deal_amount'].sum()\n",
    "\n",
    "print(\"Total amount invested in the show:\", total_amount_invested)\n"
   ]
  },
  {
   "cell_type": "markdown",
   "id": "1019e0b2",
   "metadata": {},
   "source": []
  },
  {
   "cell_type": "markdown",
   "id": "6abb8e56",
   "metadata": {},
   "source": [
    "                                           Submitted By: Shweta Kanungo"
   ]
  },
  {
   "cell_type": "code",
   "execution_count": null,
   "id": "502e10d1",
   "metadata": {},
   "outputs": [],
   "source": []
  }
 ],
 "metadata": {
  "kernelspec": {
   "display_name": "Python 3 (ipykernel)",
   "language": "python",
   "name": "python3"
  },
  "language_info": {
   "codemirror_mode": {
    "name": "ipython",
    "version": 3
   },
   "file_extension": ".py",
   "mimetype": "text/x-python",
   "name": "python",
   "nbconvert_exporter": "python",
   "pygments_lexer": "ipython3",
   "version": "3.11.4"
  }
 },
 "nbformat": 4,
 "nbformat_minor": 5
}
